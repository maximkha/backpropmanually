{
 "cells": [
  {
   "cell_type": "code",
   "execution_count": 128,
   "metadata": {},
   "outputs": [],
   "source": [
    "import numpy as np"
   ]
  },
  {
   "cell_type": "code",
   "execution_count": 129,
   "metadata": {},
   "outputs": [],
   "source": [
    "class Linear:\n",
    "    def __init__(self, num_in, num_out, use_bias = True) -> None:\n",
    "        self.use_bias = use_bias\n",
    "        self.num_in = num_in\n",
    "        self.num_out = num_out\n",
    "        self.matr = (np.random.normal(0, 1., (num_in + (1 if use_bias else 0), num_out)) * 10).clip(np.iinfo(np.int16).min, np.iinfo(np.int16).max).astype(np.int16)\n",
    "        self.grads = np.zeros_like(self.matr)\n",
    "        self.last_xs = None\n",
    "\n",
    "    def get_grad(self, upstream_resp_loss: np.ndarray) -> np.ndarray:\n",
    "        # divvy up the blame!\n",
    "        # except now, just do it with the last inputs\n",
    "        upstream_resp_loss = upstream_resp_loss.clip(np.iinfo(np.int16).min, np.iinfo(np.int16).max).astype(np.int16)\n",
    "\n",
    "        # the loss 'attributed' that we will pass up, (the loss 'attributed' to inputs) is proportonial to the weight mat\n",
    "        if not self.use_bias:\n",
    "            dloss_din = upstream_resp_loss @ self.matr.T\n",
    "        else:\n",
    "            # chop off the bias!\n",
    "            dloss_din = upstream_resp_loss @ self.matr[:-1, :].T\n",
    "\n",
    "        # the loss 'attributed' to the weights is directly proportional to the inputs we recieved\n",
    "        dloss_dweights = self.last_xs.T @ upstream_resp_loss\n",
    "\n",
    "        assert self.grads.shape == dloss_dweights.shape\n",
    "        self.grads = dloss_dweights.clip(np.iinfo(np.int16).min, np.iinfo(np.int16).max).astype(np.int16)\n",
    "\n",
    "        return dloss_din\n",
    "\n",
    "    def forward(self, xs: np.ndarray, no_record: bool = False) -> np.ndarray:\n",
    "        # fix xs, if we need bias\n",
    "        fixed_xs = xs\n",
    "        if self.use_bias:\n",
    "            fixed_xs = np.hstack((fixed_xs, np.ones((fixed_xs.shape[0], 1))))\n",
    "        \n",
    "        if not no_record:\n",
    "            self.last_xs = fixed_xs\n",
    "        \n",
    "        return (fixed_xs @ self.matr).clip(np.iinfo(np.int16).min, np.iinfo(np.int16).max).astype(np.int16)"
   ]
  },
  {
   "cell_type": "code",
   "execution_count": 130,
   "metadata": {},
   "outputs": [],
   "source": [
    "class LinearPercepFused(Linear):\n",
    "    def forward(self, xs: np.ndarray, no_record: bool = False) -> np.ndarray:\n",
    "        outp = super().forward(xs, no_record)\n",
    "        return np.where(outp > np.uint8(0), np.uint8(1), np.uint8(0))"
   ]
  },
  {
   "cell_type": "code",
   "execution_count": 131,
   "metadata": {},
   "outputs": [],
   "source": [
    "xs = np.array([[0., 0.], [0., 1.], [1., 0.], [1., 1.]])\n",
    "# ys = np.array([[0.], [1.], [1.], [0.]])\n",
    "ys = np.array([[0.], [0.], [1.], [0.]])\n",
    "\n",
    "xs_repeat = xs.repeat(10, 0)\n",
    "ys_repeat = ys.repeat(10, 0)\n",
    "ys_repeat += np.random.normal(0, .1, size=ys_repeat.shape)"
   ]
  },
  {
   "cell_type": "code",
   "execution_count": 132,
   "metadata": {},
   "outputs": [],
   "source": [
    "ydat_i8 = (ys_repeat*10).clip(np.iinfo(np.int16).min, np.iinfo(np.int16).max).astype(np.int16)\n",
    "xdat_i8 = (xs_repeat*10).clip(np.iinfo(np.int16).min, np.iinfo(np.int16).max).astype(np.int16)"
   ]
  },
  {
   "cell_type": "code",
   "execution_count": 133,
   "metadata": {},
   "outputs": [],
   "source": [
    "# ydat_i8"
   ]
  },
  {
   "cell_type": "code",
   "execution_count": 134,
   "metadata": {},
   "outputs": [],
   "source": [
    "# print(f\"{xdat_i8.dtype=}\")\n",
    "# out_l1 = lin1.forward(xdat_i8, True)\n",
    "# print(f\"{out_l1.dtype=}\")\n",
    "# out = lin2.forward(out_l1, True)\n",
    "# out"
   ]
  },
  {
   "cell_type": "code",
   "execution_count": 135,
   "metadata": {},
   "outputs": [],
   "source": [
    "# out.dtype"
   ]
  },
  {
   "cell_type": "code",
   "execution_count": 136,
   "metadata": {},
   "outputs": [
    {
     "data": {
      "text/plain": [
       "array([-16], dtype=int16)"
      ]
     },
     "execution_count": 136,
     "metadata": {},
     "output_type": "execute_result"
    }
   ],
   "source": [
    "np.array([-128], dtype=np.int16) >> 3"
   ]
  },
  {
   "cell_type": "code",
   "execution_count": 137,
   "metadata": {},
   "outputs": [],
   "source": [
    "# print(f\"{xdat_i8.dtype=}\")\n",
    "# out_l1 = lin1.forward(xdat_i8, True)\n",
    "# print(f\"{out_l1.dtype=}\")\n",
    "# out = lin2.forward(out_l1, True)\n",
    "# out"
   ]
  },
  {
   "cell_type": "code",
   "execution_count": 138,
   "metadata": {},
   "outputs": [],
   "source": [
    "class one_MSE_ish_Loss:\n",
    "    def __init__(self) -> None:\n",
    "        self.last_diffs = None\n",
    "\n",
    "    def get_grad(self) -> np.ndarray:\n",
    "        return self.last_diffs >> 1\n",
    "\n",
    "    def forward(self, y: np.ndarray, y_exp) -> np.ndarray:\n",
    "        self.last_diffs = y - y_exp\n",
    "        return self.last_diffs * self.last_diffs"
   ]
  },
  {
   "cell_type": "code",
   "execution_count": 139,
   "metadata": {},
   "outputs": [],
   "source": [
    "lossf = one_MSE_ish_Loss()"
   ]
  },
  {
   "cell_type": "code",
   "execution_count": 140,
   "metadata": {},
   "outputs": [],
   "source": [
    "from tqdm import tqdm"
   ]
  },
  {
   "cell_type": "code",
   "execution_count": 141,
   "metadata": {},
   "outputs": [
    {
     "name": "stderr",
     "output_type": "stream",
     "text": [
      "100%|██████████| 3000/3000 [00:00<00:00, 5434.09it/s]\n"
     ]
    }
   ],
   "source": [
    "LR_FAC = 8\n",
    "\n",
    "lin1 = LinearPercepFused(2, 25, use_bias=True)\n",
    "lin2 = LinearPercepFused(25, 1, use_bias=True)\n",
    "\n",
    "losses = []\n",
    "# for _ in tqdm(range(3000)):\n",
    "for _ in tqdm(range(3000)):\n",
    "    example_idx = np.random.randint(0, len(xdat_i8))\n",
    "    out_l1 = lin1.forward(xdat_i8[example_idx][np.newaxis, :])\n",
    "    out = lin2.forward(out_l1)\n",
    "\n",
    "    loss = lossf.forward(out, ydat_i8[example_idx][np.newaxis, :])\n",
    "    # print(f\"{loss=}\")\n",
    "    \n",
    "    pass_back_grad = lossf.get_grad()\n",
    "    pass_back_grad = lin2.get_grad(pass_back_grad)\n",
    "    pass_back_grad = lin1.get_grad(pass_back_grad)\n",
    "    \n",
    "    # print(f\"{lin1.grads=}\")\n",
    "    # print(f\"{lin1.matr=}\")\n",
    "\n",
    "    lin1.matr += lin1.grads >> LR_FAC\n",
    "    lin2.matr += lin2.grads >> LR_FAC\n",
    "    losses.append(loss)"
   ]
  },
  {
   "cell_type": "code",
   "execution_count": 142,
   "metadata": {},
   "outputs": [],
   "source": [
    "import matplotlib.pyplot as plt"
   ]
  },
  {
   "cell_type": "code",
   "execution_count": 143,
   "metadata": {},
   "outputs": [
    {
     "data": {
      "text/plain": [
       "[<matplotlib.lines.Line2D at 0x1c2873b9190>]"
      ]
     },
     "execution_count": 143,
     "metadata": {},
     "output_type": "execute_result"
    },
    {
     "data": {
      "image/png": "[encoded data removed]",
      "text/plain": [
       "<Figure size 432x288 with 1 Axes>"
      ]
     },
     "metadata": {
      "needs_background": "light"
     },
     "output_type": "display_data"
    }
   ],
   "source": [
    "plt.plot(np.array(losses)[:, 0, 0])"
   ]
  },
  {
   "cell_type": "code",
   "execution_count": 144,
   "metadata": {},
   "outputs": [
    {
     "data": {
      "text/plain": [
       "<matplotlib.collections.PathCollection at 0x1c2874142b0>"
      ]
     },
     "execution_count": 144,
     "metadata": {},
     "output_type": "execute_result"
    },
    {
     "data": {
      "image/png": "[encoded data removed]",
      "text/plain": [
       "<Figure size 432x288 with 1 Axes>"
      ]
     },
     "metadata": {
      "needs_background": "light"
     },
     "output_type": "display_data"
    }
   ],
   "source": [
    "plt.scatter(*list(xdat_i8.T), c=ydat_i8, cmap=\"hot\")"
   ]
  },
  {
   "cell_type": "code",
   "execution_count": 145,
   "metadata": {},
   "outputs": [
    {
     "data": {
      "text/plain": [
       "array([-4, -3, -2, -1,  0,  1,  2,  3], dtype=int16)"
      ]
     },
     "execution_count": 145,
     "metadata": {},
     "output_type": "execute_result"
    }
   ],
   "source": [
    "np.arange(-128>>5,128>>5).clip(-128, 128).astype(np.int16)"
   ]
  },
  {
   "cell_type": "code",
   "execution_count": 146,
   "metadata": {},
   "outputs": [
    {
     "data": {
      "text/plain": [
       "<matplotlib.collections.PathCollection at 0x1c287470130>"
      ]
     },
     "execution_count": 146,
     "metadata": {},
     "output_type": "execute_result"
    },
    {
     "data": {
      "image/png": "[encoded data removed]",
      "text/plain": [
       "<Figure size 432x288 with 1 Axes>"
      ]
     },
     "metadata": {
      "needs_background": "light"
     },
     "output_type": "display_data"
    }
   ],
   "source": [
    "sxs, sys = np.meshgrid(*[np.arange(-128,128).clip(-128, 128).astype(np.int16) for _ in range(2)])\n",
    "pts = np.vstack([sxs.ravel(), sys.ravel()]).T\n",
    "\n",
    "out_l1 = lin1.forward(pts, True)\n",
    "out = lin2.forward(out_l1, True)\n",
    "out\n",
    "\n",
    "plt.scatter(pts[:, 0], pts[:, 1], c=out, cmap=\"hot\")"
   ]
  },
  {
   "cell_type": "code",
   "execution_count": 147,
   "metadata": {},
   "outputs": [
    {
     "data": {
      "text/plain": [
       "array([[0],\n",
       "       [0],\n",
       "       [0],\n",
       "       [0]], dtype=uint8)"
      ]
     },
     "execution_count": 147,
     "metadata": {},
     "output_type": "execute_result"
    }
   ],
   "source": [
    "out_l1 = lin1.forward((xs*10).astype(np.int16), True)\n",
    "out = lin2.forward(out_l1, True)\n",
    "out"
   ]
  },
  {
   "cell_type": "code",
   "execution_count": null,
   "metadata": {},
   "outputs": [],
   "source": []
  }
 ],
 "metadata": {
  "kernelspec": {
   "display_name": "Python 3.8.0 64-bit",
   "language": "python",
   "name": "python3"
  },
  "language_info": {
   "codemirror_mode": {
    "name": "ipython",
    "version": 3
   },
   "file_extension": ".py",
   "mimetype": "text/x-python",
   "name": "python",
   "nbconvert_exporter": "python",
   "pygments_lexer": "ipython3",
   "version": "3.8.0"
  },
  "orig_nbformat": 4,
  "vscode": {
   "interpreter": {
    "hash": "8c8158d981000c5a34bf32431467cf5cb93ec2272b8d464bd409096bcc51e96a"
   }
  }
 },
 "nbformat": 4,
 "nbformat_minor": 2
}
