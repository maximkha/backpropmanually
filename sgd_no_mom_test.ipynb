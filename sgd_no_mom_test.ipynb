{
 "cells": [
  {
   "cell_type": "code",
   "execution_count": 1,
   "metadata": {},
   "outputs": [],
   "source": [
    "import numpy as np"
   ]
  },
  {
   "cell_type": "code",
   "execution_count": 2,
   "metadata": {},
   "outputs": [],
   "source": [
    "# https://web.eecs.umich.edu/~justincj/teaching/eecs442/notes/linear-backprop.html"
   ]
  },
  {
   "cell_type": "code",
   "execution_count": 3,
   "metadata": {},
   "outputs": [],
   "source": [
    "from typing import Tuple\n",
    "\n",
    "# dloss_din, dloss_dweights\n",
    "def get_lin_grad(mat: np.ndarray, X: np.ndarray, upstream_resp_loss: np.ndarray) -> Tuple[np.ndarray, np.ndarray]:\n",
    "    # divvy up the blame!\n",
    "\n",
    "    # the loss 'attributed' that we will pass up, (the loss 'attributed' to inputs) is proportonial to the weight mat\n",
    "    dloss_din = upstream_resp_loss @ mat.T\n",
    "\n",
    "    # the loss 'attributed' to the weights is directly proportional to the inputs we recieved\n",
    "    dloss_dweights = X.T @ upstream_resp_loss\n",
    "    return dloss_din, dloss_dweights"
   ]
  },
  {
   "cell_type": "code",
   "execution_count": 4,
   "metadata": {},
   "outputs": [],
   "source": [
    "xs = np.linspace(-10, 10, 1000)\n",
    "ys = xs*10 + 2\n",
    "xs += np.random.normal(0.,.1, len(xs))\n",
    "\n",
    "xs = xs.reshape(-1, 1)\n",
    "ys = ys.reshape(-1, 1)"
   ]
  },
  {
   "cell_type": "code",
   "execution_count": 5,
   "metadata": {},
   "outputs": [],
   "source": [
    "import matplotlib.pyplot as plt"
   ]
  },
  {
   "cell_type": "code",
   "execution_count": 6,
   "metadata": {},
   "outputs": [
    {
     "data": {
      "text/plain": [
       "[<matplotlib.lines.Line2D at 0x28c3a6bd6a0>]"
      ]
     },
     "execution_count": 6,
     "metadata": {},
     "output_type": "execute_result"
    },
    {
     "data": {
      "image/png": "[encoded data removed]",
      "text/plain": [
       "<Figure size 432x288 with 1 Axes>"
      ]
     },
     "metadata": {
      "needs_background": "light"
     },
     "output_type": "display_data"
    }
   ],
   "source": [
    "plt.plot(xs, ys)"
   ]
  },
  {
   "cell_type": "code",
   "execution_count": 7,
   "metadata": {},
   "outputs": [],
   "source": [
    "def mse(y, yexp): return np.mean((y-yexp)**2)"
   ]
  },
  {
   "cell_type": "code",
   "execution_count": 8,
   "metadata": {},
   "outputs": [],
   "source": [
    "x_with_bias = np.hstack((xs, np.ones((xs.shape[0], 1))))"
   ]
  },
  {
   "cell_type": "code",
   "execution_count": 9,
   "metadata": {},
   "outputs": [],
   "source": [
    "LR = .001"
   ]
  },
  {
   "cell_type": "code",
   "execution_count": 10,
   "metadata": {},
   "outputs": [],
   "source": [
    "# t_mat = np.random.normal(0, 1., (2, 1))\n",
    "\n",
    "# for _ in range(20000):\n",
    "#     loss = mse(x_with_bias @ t_mat, ys)\n",
    "#     dloss_dmodel = 2*(x_with_bias @ t_mat - ys)/len(ys)\n",
    "\n",
    "#     _, dloss_dmat = get_lin_grad(t_mat, x_with_bias, dloss_dmodel)\n",
    "#     print(f\"{loss=}\")\n",
    "#     # print(f\"{dloss_dmodel=}\")\n",
    "#     # print(f\"{dloss_dmat=}\")\n",
    "\n",
    "#     t_mat += dloss_dmat * -LR\n",
    "\n",
    "# print(f\"{t_mat=}\")"
   ]
  },
  {
   "cell_type": "code",
   "execution_count": 11,
   "metadata": {},
   "outputs": [
    {
     "name": "stdout",
     "output_type": "stream",
     "text": [
      "loss=4685.912942086611\n",
      "loss=3167.019739059263\n",
      "loss=2738.7514532371006\n",
      "loss=1895.3419895324903\n",
      "loss=651.5238243268029\n",
      "loss=14.447558564194857\n",
      "loss=2.2611272203818595\n",
      "loss=1.348451108210092\n",
      "loss=1.2245459670891683\n",
      "loss=1.202612395373063\n",
      "loss=1.1921358547810723\n",
      "loss=1.183343603065593\n",
      "loss=1.175089159970956\n",
      "loss=1.1672269966474713\n",
      "loss=1.1597252670310478\n",
      "loss=1.152565787613064\n",
      "loss=1.145732609080555\n",
      "loss=1.1392106862579836\n",
      "loss=1.1329856957317315\n",
      "loss=1.1270439854564924\n",
      "loss=1.1213725408335375\n",
      "loss=1.1159589540571928\n",
      "loss=1.1107913951580435\n",
      "loss=1.1058585844948317\n",
      "loss=1.1011497666020382\n",
      "loss=1.096654685321053\n",
      "loss=1.0923635601487107\n",
      "loss=1.088267063740799\n",
      "loss=1.0843563005115289\n",
      "loss=1.080622786273235\n",
      "loss=1.0770584288635479\n",
      "loss=1.0736555097101022\n",
      "loss=1.0704066662855694\n",
      "loss=1.0673048754082837\n",
      "loss=1.0643434373461027\n",
      "loss=1.0615159606834241\n",
      "loss=1.0588163479133366\n",
      "loss=1.056238781718911\n",
      "loss=1.0537777119095217\n",
      "loss=1.051427842979825\n",
      "loss=1.0491841222607514\n",
      "loss=1.0470417286334042\n",
      "loss=1.0449960617782907\n",
      "loss=1.0430427319336903\n",
      "loss=1.0411775501383462\n",
      "loss=1.0393965189348822\n",
      "loss=1.037695823511591\n",
      "loss=1.036071823261328\n",
      "loss=1.034521043737357\n",
      "loss=1.0330401689869733\n",
      "loss=1.0316260342447185\n",
      "loss=1.0302756189678894\n",
      "loss=1.0289860401979167\n",
      "loss=1.0277545462320181\n",
      "loss=1.0265785105902567\n",
      "loss=1.0254554262639415\n",
      "loss=1.024382900231939\n",
      "loss=1.0233586482321508\n",
      "loss=1.0223804897760513\n",
      "loss=1.0214463433947334\n",
      "loss=1.0205542221055282\n",
      "loss=1.0197022290887396\n",
      "loss=1.0188885535645908\n",
      "loss=1.0181114668609355\n",
      "loss=1.0173693186627448\n",
      "loss=1.016660533434837\n",
      "loss=1.015983607009691\n",
      "loss=1.0153371033326193\n",
      "loss=1.0147196513569143\n",
      "loss=1.0141299420819534\n",
      "loss=1.0135667257275844\n",
      "loss=1.0130288090384207\n",
      "loss=1.0125150527119908\n",
      "loss=1.0120243689449704\n",
      "loss=1.0115557190920048\n",
      "loss=1.0111081114318776\n",
      "loss=1.0106805990360477\n",
      "loss=1.0102722777348019\n",
      "loss=1.009882284176493\n",
      "loss=1.009509793975554\n",
      "loss=1.0091540199451836\n",
      "loss=1.0088142104107805\n",
      "loss=1.0084896476004024\n",
      "loss=1.0081796461086823\n",
      "loss=1.0078835514308342\n",
      "loss=1.0076007385634953\n",
      "loss=1.0073306106693347\n",
      "loss=1.0070725978025064\n",
      "loss=1.0068261556921203\n",
      "loss=1.0065907645810959\n",
      "loss=1.00636592811783\n",
      "loss=1.00615117229827\n",
      "loss=1.0059460444560697\n",
      "loss=1.0057501122986372\n",
      "loss=1.0055629629869547\n",
      "loss=1.0053842022571815\n",
      "loss=1.0052134535821216\n",
      "loss=1.0050503573707306\n",
      "loss=1.0048945702039271\n",
      "loss=1.004745764105054\n",
      "loss=1.004603625843393\n",
      "loss=1.0044678562692435\n",
      "loss=1.00433816967911\n",
      "loss=1.0042142932096334\n",
      "loss=1.0040959662589546\n",
      "loss=1.0039829399342604\n",
      "loss=1.0038749765243224\n",
      "loss=1.0037718489958858\n",
      "loss=1.0036733405128277\n",
      "loss=1.0035792439770512\n",
      "loss=1.0034893615901246\n",
      "loss=1.0034035044347174\n",
      "loss=1.0033214920749458\n",
      "loss=1.003243152174765\n",
      "loss=1.0031683201335835\n",
      "loss=1.003096838738323\n",
      "loss=1.003028557831179\n",
      "loss=1.0029633339923711\n",
      "loss=1.0029010302371963\n",
      "loss=1.0028415157267472\n",
      "loss=1.002784665491668\n",
      "loss=1.0027303601683661\n",
      "loss=1.002678485747108\n",
      "loss=1.0026289333314644\n",
      "loss=1.002581598908591\n",
      "loss=1.0025363831298626\n",
      "loss=1.002493191101376\n",
      "loss=1.0024519321838887\n",
      "loss=1.0024125198017684\n",
      "loss=1.00237487126053\n",
      "loss=1.0023389075725995\n",
      "loss=1.0023045532908985\n",
      "loss=1.0022717363499332\n",
      "loss=1.002240387914016\n",
      "loss=1.0022104422323268\n",
      "loss=1.0021818365004804\n",
      "loss=1.002154510728322\n",
      "loss=1.002128407613672\n",
      "loss=1.0021034724217328\n",
      "loss=1.002079652869927\n",
      "loss=1.0020568990179066\n",
      "loss=1.0020351631625006\n",
      "loss=1.0020143997373883\n",
      "loss=1.0019945652172757\n",
      "loss=1.001975618026377\n",
      "loss=1.001957518451004\n",
      "loss=1.0019402285560837\n",
      "loss=1.0019237121054234\n",
      "loss=1.0019079344855555\n",
      "loss=1.0018928626329997\n",
      "loss=1.0018784649647912\n",
      "loss=1.001864711312126\n",
      "loss=1.00185157285699\n",
      "loss=1.0018390220716171\n",
      "loss=1.0018270326606835\n",
      "loss=1.0018155795060808\n",
      "loss=1.001804638614169\n",
      "loss=1.0017941870654017\n",
      "loss=1.0017842029662072\n",
      "loss=1.0017746654030228\n",
      "loss=1.0017655543984003\n",
      "loss=1.0017568508690737\n",
      "loss=1.0017485365859065\n",
      "loss=1.0017405941356377\n",
      "loss=1.001733006884341\n",
      "loss=1.0017257589425261\n",
      "loss=1.0017188351317965\n",
      "loss=1.0017122209530098\n",
      "loss=1.0017059025558617\n",
      "loss=1.0016998667098311\n",
      "loss=1.0016941007764317\n",
      "loss=1.0016885926827055\n",
      "loss=1.001683330895901\n",
      "loss=1.001678304399289\n",
      "loss=1.0016735026690662\n",
      "loss=1.0016689156522813\n",
      "loss=1.001664533745764\n",
      "loss=1.0016603477759864\n",
      "loss=1.0016563489798374\n",
      "loss=1.001652528986245\n",
      "loss=1.00164887979864\n",
      "loss=1.001645393778181\n",
      "loss=1.0016420636277565\n",
      "loss=1.0016388823766824\n",
      "loss=1.0016358433660986\n",
      "loss=1.0016329402350115\n",
      "loss=1.001630166906965\n",
      "loss=1.0016275175773106\n",
      "loss=1.001624986701039\n",
      "loss=1.0016225689811675\n",
      "loss=1.0016202593576384\n",
      "loss=1.0016180529967194\n",
      "loss=1.001615945280877\n",
      "loss=1.0016139317991046\n",
      "loss=1.0016120083376772\n",
      "loss=1.0016101708713328\n",
      "loss=1.0016084155548335\n",
      "loss=1.0016067387149163\n",
      "loss=1.0016051368425964\n",
      "loss=1.0016036065858214\n",
      "t_mat1 @ t_mat2=array([[9.99171595],\n",
      "       [1.96048244]])\n"
     ]
    }
   ],
   "source": [
    "t_mat1 = np.random.normal(0, 1., (2, 2))\n",
    "t_mat2 = np.random.normal(0, 1., (2, 1))\n",
    "\n",
    "for _ in range(200):\n",
    "    lay1 = x_with_bias @ t_mat1\n",
    "    mout = lay1 @ t_mat2\n",
    "\n",
    "    loss = mse(mout, ys)\n",
    "    dloss_dmout = 2*(mout - ys)/len(ys)\n",
    "\n",
    "    dloss_dlay1, dloss_dmat2 = get_lin_grad(t_mat2, lay1, dloss_dmout)\n",
    "\n",
    "    _, dloss_dmat1 = get_lin_grad(t_mat1, x_with_bias, dloss_dlay1)\n",
    "\n",
    "    print(f\"{loss=}\")\n",
    "\n",
    "    t_mat2 += dloss_dmat2 * -LR\n",
    "    t_mat1 += dloss_dmat1 * -LR\n",
    "\n",
    "    print(f\"{dloss_dmat2=}\")\n",
    "    print(f\"{dloss_dmat1=}\")\n",
    "\n",
    "print(f\"{t_mat1 @ t_mat2=}\")"
   ]
  }
 ],
 "metadata": {
  "kernelspec": {
   "display_name": "Python 3.8.0 64-bit",
   "language": "python",
   "name": "python3"
  },
  "language_info": {
   "codemirror_mode": {
    "name": "ipython",
    "version": 3
   },
   "file_extension": ".py",
   "mimetype": "text/x-python",
   "name": "python",
   "nbconvert_exporter": "python",
   "pygments_lexer": "ipython3",
   "version": "3.8.0"
  },
  "orig_nbformat": 4,
  "vscode": {
   "interpreter": {
    "hash": "8c8158d981000c5a34bf32431467cf5cb93ec2272b8d464bd409096bcc51e96a"
   }
  }
 },
 "nbformat": 4,
 "nbformat_minor": 2
}
