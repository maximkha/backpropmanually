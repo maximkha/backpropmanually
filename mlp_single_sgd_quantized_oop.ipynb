{
 "cells": [
  {
   "cell_type": "code",
   "execution_count": 136,
   "metadata": {},
   "outputs": [],
   "source": [
    "from fxpmath import Fxp"
   ]
  },
  {
   "cell_type": "code",
   "execution_count": 137,
   "metadata": {},
   "outputs": [],
   "source": [
    "ALL = Fxp(None, signed=True, n_word=16, n_frac=8, overflow='saturate')"
   ]
  },
  {
   "cell_type": "code",
   "execution_count": 138,
   "metadata": {},
   "outputs": [],
   "source": [
    "import numpy as np"
   ]
  },
  {
   "cell_type": "code",
   "execution_count": 139,
   "metadata": {},
   "outputs": [],
   "source": [
    "def padones(x):\n",
    "    padded_array = Fxp(np.ones((x.shape[0], x.shape[1] + 1))).like(ALL)\n",
    "    padded_array[:, : x.shape[1]] = x\n",
    "    return padded_array"
   ]
  },
  {
   "cell_type": "code",
   "execution_count": 140,
   "metadata": {},
   "outputs": [],
   "source": [
    "class Linear:\n",
    "    def __init__(self, num_in, num_out, use_bias = True) -> None:\n",
    "        self.use_bias = use_bias\n",
    "        self.num_in = num_in\n",
    "        self.num_out = num_out\n",
    "        self.matr = Fxp(np.random.normal(0, 1., (num_in + (1 if use_bias else 0), num_out))).like(ALL)\n",
    "        self.grads = np.zeros_like(self.matr)\n",
    "        self.last_xs = None\n",
    "\n",
    "    def get_grad(self, upstream_resp_loss: np.ndarray) -> np.ndarray:\n",
    "        # divvy up the blame!\n",
    "        # except now, just do it with the last inputs\n",
    "\n",
    "        # the loss 'attributed' that we will pass up, (the loss 'attributed' to inputs) is proportonial to the weight mat\n",
    "        if not self.use_bias:\n",
    "            dloss_din = np.matmul(upstream_resp_loss, self.matr.T).like(ALL)\n",
    "            # dloss_din = upstream_resp_loss @ self.matr.T\n",
    "        else:\n",
    "            # chop off the bias!\n",
    "            dloss_din = np.matmul(upstream_resp_loss, self.matr[:-1, :].T).like(ALL)\n",
    "            # dloss_din = upstream_resp_loss @ self.matr[:-1, :].T\n",
    "\n",
    "        # the loss 'attributed' to the weights is directly proportional to the inputs we recieved\n",
    "        dloss_dweights = np.matmul(self.last_xs.T, upstream_resp_loss).like(ALL)\n",
    "        # dloss_dweights = self.last_xs.T @ upstream_resp_loss\n",
    "\n",
    "        assert self.grads.shape == dloss_dweights.shape\n",
    "        self.grads = dloss_dweights\n",
    "\n",
    "        return dloss_din\n",
    "\n",
    "    def forward(self, xs: np.ndarray, no_record: bool = False) -> np.ndarray:\n",
    "        # fix xs, if we need bias\n",
    "        fixed_xs = xs\n",
    "        # print(f\"{fixed_xs.shape=}\")\n",
    "        if self.use_bias:\n",
    "            fixed_xs = padones(fixed_xs)\n",
    "            # fixed_xs = np.hstack((fixed_xs, Fxp(np.ones((fixed_xs.shape[0], 1)))))\n",
    "        \n",
    "        if not no_record:\n",
    "            self.last_xs = fixed_xs\n",
    "        \n",
    "        # return self.last_xs @ self.matr\n",
    "        # print(f\"{self.matr=}\")\n",
    "        return np.matmul(fixed_xs, self.matr).like(ALL)"
   ]
  },
  {
   "cell_type": "code",
   "execution_count": 141,
   "metadata": {},
   "outputs": [],
   "source": [
    "class LinearPercepFused(Linear):\n",
    "    def forward(self, xs: np.ndarray, no_record: bool = False) -> np.ndarray:\n",
    "        outp = super().forward(xs, no_record)\n",
    "        return np.where(outp > 0., Fxp(0), Fxp(1)).like(ALL)"
   ]
  },
  {
   "cell_type": "code",
   "execution_count": 142,
   "metadata": {},
   "outputs": [],
   "source": [
    "class MSELoss:\n",
    "    def __init__(self) -> None:\n",
    "        self.last_diffs = None\n",
    "\n",
    "    def get_grad(self) -> np.ndarray:\n",
    "        return self.last_diffs/len(self.last_diffs) << 1\n",
    "\n",
    "    def forward(self, y: np.ndarray, y_exp) -> np.ndarray:\n",
    "        self.last_diffs = y - y_exp\n",
    "        return np.mean((self.last_diffs**2))"
   ]
  },
  {
   "cell_type": "code",
   "execution_count": 143,
   "metadata": {},
   "outputs": [],
   "source": [
    "# matr = np.random.normal(0, 1., (1 + (1 if True else 0), 10))"
   ]
  },
  {
   "cell_type": "code",
   "execution_count": 144,
   "metadata": {},
   "outputs": [],
   "source": [
    "# matr.shape"
   ]
  },
  {
   "cell_type": "code",
   "execution_count": 145,
   "metadata": {},
   "outputs": [],
   "source": [
    "# matr[:-1, :].shape"
   ]
  },
  {
   "cell_type": "code",
   "execution_count": 146,
   "metadata": {},
   "outputs": [],
   "source": [
    "# (2.*np.ones((10, 1))) @ matr[:-1, :]"
   ]
  },
  {
   "cell_type": "code",
   "execution_count": 147,
   "metadata": {},
   "outputs": [],
   "source": [
    "# (2.*np.ones((10, 1))) @ matr[:-1, :] + matr[-1, :]"
   ]
  },
  {
   "cell_type": "code",
   "execution_count": 148,
   "metadata": {},
   "outputs": [],
   "source": [
    "# tx = 2.*np.ones((10, 1))\n",
    "# np.hstack((tx, np.ones((tx.shape[0], 1)))) @ matr"
   ]
  },
  {
   "cell_type": "code",
   "execution_count": 149,
   "metadata": {},
   "outputs": [],
   "source": [
    "# fixed_xs = Fxp(np.random.normal(0, 1., size=5).reshape(-1, 1)).like(ALL)\n",
    "# print(f\"{fixed_xs=}\")\n",
    "# np.where(fixed_xs > 0., Fxp(0), Fxp(1)).like(ALL)"
   ]
  },
  {
   "cell_type": "code",
   "execution_count": 150,
   "metadata": {},
   "outputs": [],
   "source": [
    "# from fxpmath import Fxp\n",
    "# import numpy as np\n",
    "\n",
    "# ALL = Fxp(None, signed=True, n_word=16, n_frac=8)\n",
    "# fixed_xs = Fxp(np.ones((4, 1))).like(ALL)\n",
    "# np.hstack((fixed_xs, Fxp(np.ones((fixed_xs.shape[0], 1))).like(ALL)))"
   ]
  },
  {
   "cell_type": "code",
   "execution_count": 151,
   "metadata": {},
   "outputs": [],
   "source": [
    "# l = Linear(1, 1)"
   ]
  },
  {
   "cell_type": "code",
   "execution_count": 152,
   "metadata": {},
   "outputs": [],
   "source": [
    "xs = np.array([[0., 0.], [0., 1.], [1., 0.], [1., 1.]])\n",
    "ys = np.array([[0.], [1.], [1.], [0.]])\n",
    "\n",
    "xs_repeat = xs.repeat(10, 0)\n",
    "ys_repeat = ys.repeat(10, 0)\n",
    "ys_repeat += np.random.normal(0, .01, size=ys_repeat.shape)\n",
    "\n",
    "fxp_xs = Fxp(xs_repeat).like(ALL)\n",
    "fxp_ys = Fxp(ys_repeat).like(ALL)"
   ]
  },
  {
   "cell_type": "code",
   "execution_count": 153,
   "metadata": {},
   "outputs": [],
   "source": [
    "# Linear(1, 1).matr.config.op_input_size"
   ]
  },
  {
   "cell_type": "code",
   "execution_count": 154,
   "metadata": {},
   "outputs": [],
   "source": [
    "# weird matmul behavior!!\n",
    "# wm = Fxp(np.random.normal(0, 1., size=(1, 1))).like(ALL)\n",
    "# print(f\"{np.matmul(Fxp(np.ones((10, 1))).like(ALL), wm)=}\")\n",
    "# print(f\"{np.dot(Fxp(np.ones((10, 1))).like(ALL), wm)=}\")"
   ]
  },
  {
   "cell_type": "code",
   "execution_count": 155,
   "metadata": {},
   "outputs": [],
   "source": [
    "def get_random_range(lenx, seq_len):\n",
    "    start_i = np.random.randint(0, lenx-seq_len)\n",
    "    return start_i, start_i + seq_len"
   ]
  },
  {
   "cell_type": "code",
   "execution_count": 156,
   "metadata": {},
   "outputs": [],
   "source": [
    "from tqdm import tqdm"
   ]
  },
  {
   "cell_type": "code",
   "execution_count": 157,
   "metadata": {},
   "outputs": [
    {
     "name": "stderr",
     "output_type": "stream",
     "text": [
      " 33%|███▎      | 1004/3000 [00:07<00:15, 127.00it/s]\n"
     ]
    },
    {
     "ename": "OverflowError",
     "evalue": "int too large to convert to float",
     "output_type": "error",
     "traceback": [
      "\u001b[0;31m---------------------------------------------------------------------------\u001b[0m",
      "\u001b[0;31mOverflowError\u001b[0m                             Traceback (most recent call last)",
      "Cell \u001b[0;32mIn[157], line 19\u001b[0m\n\u001b[1;32m     16\u001b[0m pass_back_grad \u001b[39m=\u001b[39m lin2\u001b[39m.\u001b[39mget_grad(pass_back_grad)\n\u001b[1;32m     17\u001b[0m pass_back_grad \u001b[39m=\u001b[39m lin1\u001b[39m.\u001b[39mget_grad(pass_back_grad)\n\u001b[0;32m---> 19\u001b[0m lin1\u001b[39m.\u001b[39mmatr \u001b[39m+\u001b[39m\u001b[39m=\u001b[39m lin1\u001b[39m.\u001b[39mgrads \u001b[39m>>\u001b[39m LR_FAC\n\u001b[1;32m     20\u001b[0m \u001b[39m# lin1.matr += lin1.grads *.01\u001b[39;00m\n\u001b[1;32m     22\u001b[0m lin2\u001b[39m.\u001b[39mmatr \u001b[39m+\u001b[39m\u001b[39m=\u001b[39m lin2\u001b[39m.\u001b[39mgrads \u001b[39m>>\u001b[39m LR_FAC\n",
      "File \u001b[0;32m~/Library/Python/3.9/lib/python/site-packages/fxpmath/objects.py:1185\u001b[0m, in \u001b[0;36mFxp.__add__\u001b[0;34m(self, x)\u001b[0m\n\u001b[1;32m   1182\u001b[0m \u001b[39melse\u001b[39;00m:\n\u001b[1;32m   1183\u001b[0m     _sizing \u001b[39m=\u001b[39m \u001b[39mself\u001b[39m\u001b[39m.\u001b[39mconfig\u001b[39m.\u001b[39mop_sizing\n\u001b[0;32m-> 1185\u001b[0m \u001b[39mreturn\u001b[39;00m add(\u001b[39mself\u001b[39;49m, x, out\u001b[39m=\u001b[39;49m\u001b[39mself\u001b[39;49m\u001b[39m.\u001b[39;49mconfig\u001b[39m.\u001b[39;49mop_out, out_like\u001b[39m=\u001b[39;49m\u001b[39mself\u001b[39;49m\u001b[39m.\u001b[39;49mconfig\u001b[39m.\u001b[39;49mop_out_like, sizing\u001b[39m=\u001b[39;49m_sizing, method\u001b[39m=\u001b[39;49m\u001b[39mself\u001b[39;49m\u001b[39m.\u001b[39;49mconfig\u001b[39m.\u001b[39;49mop_method)\n",
      "File \u001b[0;32m~/Library/Python/3.9/lib/python/site-packages/fxpmath/functions.py:321\u001b[0m, in \u001b[0;36madd\u001b[0;34m(x, y, out, out_like, sizing, method, **kwargs)\u001b[0m\n\u001b[1;32m    318\u001b[0m n_word \u001b[39m=\u001b[39m \u001b[39mint\u001b[39m(signed) \u001b[39m+\u001b[39m n_int \u001b[39m+\u001b[39m n_frac\n\u001b[1;32m    319\u001b[0m optimal_size \u001b[39m=\u001b[39m (signed, n_word, n_int, n_frac)\n\u001b[0;32m--> 321\u001b[0m \u001b[39mreturn\u001b[39;00m _function_over_two_vars(repr_func\u001b[39m=\u001b[39;49mnp\u001b[39m.\u001b[39;49madd, raw_func\u001b[39m=\u001b[39;49m_add_raw, x\u001b[39m=\u001b[39;49mx, y\u001b[39m=\u001b[39;49my, out\u001b[39m=\u001b[39;49mout, out_like\u001b[39m=\u001b[39;49mout_like, sizing\u001b[39m=\u001b[39;49msizing, method\u001b[39m=\u001b[39;49mmethod, optimal_size\u001b[39m=\u001b[39;49moptimal_size, \u001b[39m*\u001b[39;49m\u001b[39m*\u001b[39;49mkwargs)\n",
      "File \u001b[0;32m~/Library/Python/3.9/lib/python/site-packages/fxpmath/functions.py:178\u001b[0m, in \u001b[0;36m_function_over_two_vars\u001b[0;34m(repr_func, raw_func, x, y, out, out_like, sizing, method, optimal_size, **kwargs)\u001b[0m\n\u001b[1;32m    176\u001b[0m     z \u001b[39m=\u001b[39m out\u001b[39m.\u001b[39mset_val(val, raw\u001b[39m=\u001b[39mraw)\n\u001b[1;32m    177\u001b[0m \u001b[39melse\u001b[39;00m:\n\u001b[0;32m--> 178\u001b[0m     z \u001b[39m=\u001b[39m Fxp(val, signed\u001b[39m=\u001b[39;49msigned, n_int\u001b[39m=\u001b[39;49mn_int, n_frac\u001b[39m=\u001b[39;49mn_frac, like\u001b[39m=\u001b[39;49mout_like, raw\u001b[39m=\u001b[39;49mraw, config\u001b[39m=\u001b[39;49mconfig)\n\u001b[1;32m    180\u001b[0m \u001b[39mreturn\u001b[39;00m z\n",
      "File \u001b[0;32m~/Library/Python/3.9/lib/python/site-packages/fxpmath/objects.py:228\u001b[0m, in \u001b[0;36mFxp.__init__\u001b[0;34m(self, val, signed, n_word, n_frac, n_int, like, dtype, **kwargs)\u001b[0m\n\u001b[1;32m    226\u001b[0m \u001b[39m# size\u001b[39;00m\n\u001b[1;32m    227\u001b[0m \u001b[39mif\u001b[39;00m \u001b[39mnot\u001b[39;00m _initialized:\n\u001b[0;32m--> 228\u001b[0m     \u001b[39mself\u001b[39;49m\u001b[39m.\u001b[39;49m_init_size(val, signed, n_word, n_frac, n_int, max_error\u001b[39m=\u001b[39;49m\u001b[39mself\u001b[39;49m\u001b[39m.\u001b[39;49mconfig\u001b[39m.\u001b[39;49mmax_error, n_word_max\u001b[39m=\u001b[39;49m\u001b[39mself\u001b[39;49m\u001b[39m.\u001b[39;49mconfig\u001b[39m.\u001b[39;49mn_word_max, raw\u001b[39m=\u001b[39;49mraw)\n\u001b[1;32m    229\u001b[0m \u001b[39melse\u001b[39;00m:\n\u001b[1;32m    230\u001b[0m     \u001b[39m# overwrite with other sizes if some are not None\u001b[39;00m\n\u001b[1;32m    231\u001b[0m     \u001b[39mself\u001b[39m\u001b[39m.\u001b[39mresize(signed, n_word, n_frac, n_int)\n",
      "File \u001b[0;32m~/Library/Python/3.9/lib/python/site-packages/fxpmath/objects.py:368\u001b[0m, in \u001b[0;36mFxp._init_size\u001b[0;34m(self, val, signed, n_word, n_frac, n_int, max_error, n_word_max, raw)\u001b[0m\n\u001b[1;32m    366\u001b[0m     \u001b[39mself\u001b[39m\u001b[39m.\u001b[39mset_best_sizes(val, n_word, n_frac, max_error\u001b[39m=\u001b[39mmax_error, n_word_max\u001b[39m=\u001b[39mn_word_max, raw\u001b[39m=\u001b[39mraw)\n\u001b[1;32m    367\u001b[0m \u001b[39melse\u001b[39;00m:\n\u001b[0;32m--> 368\u001b[0m     \u001b[39mself\u001b[39;49m\u001b[39m.\u001b[39;49mresize(\u001b[39mself\u001b[39;49m\u001b[39m.\u001b[39;49msigned, n_word, n_frac, n_int)\n",
      "File \u001b[0;32m~/Library/Python/3.9/lib/python/site-packages/fxpmath/objects.py:448\u001b[0m, in \u001b[0;36mFxp.resize\u001b[0;34m(self, signed, n_word, n_frac, n_int, restore_val, dtype)\u001b[0m\n\u001b[1;32m    446\u001b[0m     \u001b[39mself\u001b[39m\u001b[39m.\u001b[39mprecision \u001b[39m=\u001b[39m (\u001b[39m1\u001b[39m \u001b[39m+\u001b[39m \u001b[39m1\u001b[39mj \u001b[39m*\u001b[39m \u001b[39m1\u001b[39m) \u001b[39m/\u001b[39m \u001b[39m2.0\u001b[39m\u001b[39m*\u001b[39m\u001b[39m*\u001b[39m\u001b[39mself\u001b[39m\u001b[39m.\u001b[39mn_frac\n\u001b[1;32m    447\u001b[0m \u001b[39melse\u001b[39;00m:\n\u001b[0;32m--> 448\u001b[0m     \u001b[39mself\u001b[39m\u001b[39m.\u001b[39mupper \u001b[39m=\u001b[39m upper_val \u001b[39m/\u001b[39;49m \u001b[39m2.0\u001b[39;49m\u001b[39m*\u001b[39;49m\u001b[39m*\u001b[39;49m\u001b[39mself\u001b[39;49m\u001b[39m.\u001b[39;49mn_frac\n\u001b[1;32m    449\u001b[0m     \u001b[39mself\u001b[39m\u001b[39m.\u001b[39mlower \u001b[39m=\u001b[39m lower_val \u001b[39m/\u001b[39m \u001b[39m2.0\u001b[39m\u001b[39m*\u001b[39m\u001b[39m*\u001b[39m\u001b[39mself\u001b[39m\u001b[39m.\u001b[39mn_frac\n\u001b[1;32m    450\u001b[0m     \u001b[39mself\u001b[39m\u001b[39m.\u001b[39mprecision \u001b[39m=\u001b[39m \u001b[39m1\u001b[39m \u001b[39m/\u001b[39m \u001b[39m2.0\u001b[39m\u001b[39m*\u001b[39m\u001b[39m*\u001b[39m\u001b[39mself\u001b[39m\u001b[39m.\u001b[39mn_frac\n",
      "\u001b[0;31mOverflowError\u001b[0m: int too large to convert to float"
     ]
    }
   ],
   "source": [
    "LR_FAC = 4\n",
    "lin1 = LinearPercepFused(2, 5, use_bias=True)\n",
    "lin2 = LinearPercepFused(5, 1, use_bias=True)\n",
    "lossf = MSELoss()\n",
    "\n",
    "losses = []\n",
    "for _ in tqdm(range(3000)):\n",
    "    starti, endi = get_random_range(len(fxp_xs), 1)\n",
    "    out_l1 = lin1.forward(fxp_xs[starti:endi])\n",
    "    out = lin2.forward(out_l1)\n",
    "\n",
    "    loss = lossf.forward(out, fxp_ys[starti:endi])\n",
    "    # print(f\"{loss=}\")\n",
    "    \n",
    "    pass_back_grad = lossf.get_grad()\n",
    "    pass_back_grad = lin2.get_grad(pass_back_grad)\n",
    "    pass_back_grad = lin1.get_grad(pass_back_grad)\n",
    "\n",
    "    lin1.matr += lin1.grads >> LR_FAC\n",
    "    # lin1.matr += lin1.grads *.01\n",
    "\n",
    "    lin2.matr += lin2.grads >> LR_FAC\n",
    "    # lin2.matr += lin2.grads *.01\n",
    "    losses.append(loss)"
   ]
  },
  {
   "cell_type": "code",
   "execution_count": 158,
   "metadata": {},
   "outputs": [
    {
     "data": {
      "text/plain": [
       "[<matplotlib.lines.Line2D at 0x131125910>]"
      ]
     },
     "execution_count": 158,
     "metadata": {},
     "output_type": "execute_result"
    },
    {
     "data": {
      "image/png": "[encoded data removed]",
      "text/plain": [
       "<Figure size 640x480 with 1 Axes>"
      ]
     },
     "metadata": {},
     "output_type": "display_data"
    }
   ],
   "source": [
    "import matplotlib.pyplot as plt\n",
    "plt.plot(losses)"
   ]
  },
  {
   "cell_type": "code",
   "execution_count": null,
   "metadata": {},
   "outputs": [
    {
     "data": {
      "text/plain": [
       "<matplotlib.collections.PathCollection at 0x1177fccd0>"
      ]
     },
     "execution_count": 68,
     "metadata": {},
     "output_type": "execute_result"
    },
    {
     "data": {
      "image/png": "[encoded data removed]",
      "text/plain": [
       "<Figure size 640x480 with 1 Axes>"
      ]
     },
     "metadata": {},
     "output_type": "display_data"
    }
   ],
   "source": [
    "sxs, sys = np.meshgrid(*[np.linspace(-2, 2, 101) for _ in range(2)])\n",
    "pts = np.vstack([sxs.ravel(), sys.ravel()]).T\n",
    "out_l1 = lin1.forward(pts, True)\n",
    "out = lin2.forward(out_l1, True)\n",
    "plt.scatter(pts[:, 0], pts[:, 1], c=out, cmap=\"hot\")"
   ]
  },
  {
   "cell_type": "code",
   "execution_count": 159,
   "metadata": {},
   "outputs": [
    {
     "data": {
      "text/plain": [
       "fxp-s16/8([[0.]\n",
       "           [1.]\n",
       "           [1.]\n",
       "           [0.]])"
      ]
     },
     "execution_count": 159,
     "metadata": {},
     "output_type": "execute_result"
    }
   ],
   "source": [
    "out_l1 = lin1.forward(Fxp(xs).like(ALL), True)\n",
    "out = lin2.forward(out_l1, True)\n",
    "out"
   ]
  },
  {
   "cell_type": "code",
   "execution_count": null,
   "metadata": {},
   "outputs": [
    {
     "data": {
      "text/plain": [
       "array([[0.],\n",
       "       [0.],\n",
       "       [1.],\n",
       "       [0.]])"
      ]
     },
     "execution_count": 78,
     "metadata": {},
     "output_type": "execute_result"
    }
   ],
   "source": [
    "ys"
   ]
  },
  {
   "cell_type": "code",
   "execution_count": null,
   "metadata": {},
   "outputs": [],
   "source": []
  }
 ],
 "metadata": {
  "kernelspec": {
   "display_name": "Python 3",
   "language": "python",
   "name": "python3"
  },
  "language_info": {
   "codemirror_mode": {
    "name": "ipython",
    "version": 3
   },
   "file_extension": ".py",
   "mimetype": "text/x-python",
   "name": "python",
   "nbconvert_exporter": "python",
   "pygments_lexer": "ipython3",
   "version": "3.9.6"
  },
  "orig_nbformat": 4,
  "vscode": {
   "interpreter": {
    "hash": "31f2aee4e71d21fbe5cf8b01ff0e069b9275f58929596ceb00d14d90e3e16cd6"
   }
  }
 },
 "nbformat": 4,
 "nbformat_minor": 2
}
