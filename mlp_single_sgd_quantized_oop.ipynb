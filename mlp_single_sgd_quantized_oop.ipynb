{
 "cells": [
  {
   "cell_type": "code",
   "execution_count": null,
   "metadata": {},
   "outputs": [],
   "source": []
  }
 ],
 "metadata": {
  "kernelspec": {
   "display_name": "Python 3.8.0 64-bit",
   "language": "python",
   "name": "python3"
  },
  "language_info": {
   "name": "python",
   "version": "3.8.0"
  },
  "orig_nbformat": 4,
  "vscode": {
   "interpreter": {
    "hash": "8c8158d981000c5a34bf32431467cf5cb93ec2272b8d464bd409096bcc51e96a"
   }
  }
 },
 "nbformat": 4,
 "nbformat_minor": 2
}
