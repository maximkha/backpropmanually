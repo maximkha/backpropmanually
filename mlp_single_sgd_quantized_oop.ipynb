{
 "cells": [
  {
   "cell_type": "code",
   "execution_count": 53,
   "metadata": {},
   "outputs": [],
   "source": [
    "from fxpmath import Fxp"
   ]
  },
  {
   "cell_type": "code",
   "execution_count": 54,
   "metadata": {},
   "outputs": [],
   "source": [
    "ALL = Fxp(None, signed=True, n_word=16, n_frac=8)"
   ]
  },
  {
   "cell_type": "code",
   "execution_count": 55,
   "metadata": {},
   "outputs": [],
   "source": [
    "import numpy as np"
   ]
  },
  {
   "cell_type": "code",
   "execution_count": 56,
   "metadata": {},
   "outputs": [],
   "source": [
    "def padones(x):\n",
    "    padded_array = Fxp(np.ones((x.shape[0], x.shape[1] + 1))).like(ALL)\n",
    "    padded_array[:, : x.shape[1]] = x\n",
    "    return padded_array"
   ]
  },
  {
   "cell_type": "code",
   "execution_count": 57,
   "metadata": {},
   "outputs": [],
   "source": [
    "class Linear:\n",
    "    def __init__(self, num_in, num_out, use_bias = True) -> None:\n",
    "        self.use_bias = use_bias\n",
    "        self.num_in = num_in\n",
    "        self.num_out = num_out\n",
    "        self.matr = Fxp(np.random.normal(0, 1., (num_in + (1 if use_bias else 0), num_out))).like(ALL)\n",
    "        self.grads = np.zeros_like(self.matr)\n",
    "        self.last_xs = None\n",
    "\n",
    "    def get_grad(self, upstream_resp_loss: np.ndarray) -> np.ndarray:\n",
    "        # divvy up the blame!\n",
    "        # except now, just do it with the last inputs\n",
    "\n",
    "        # the loss 'attributed' that we will pass up, (the loss 'attributed' to inputs) is proportonial to the weight mat\n",
    "        if not self.use_bias:\n",
    "            dloss_din = np.matmul(upstream_resp_loss, self.matr.T).like(ALL)\n",
    "            # dloss_din = upstream_resp_loss @ self.matr.T\n",
    "        else:\n",
    "            # chop off the bias!\n",
    "            dloss_din = np.matmul(upstream_resp_loss, self.matr[:-1, :].T).like(ALL)\n",
    "            # dloss_din = upstream_resp_loss @ self.matr[:-1, :].T\n",
    "\n",
    "        # the loss 'attributed' to the weights is directly proportional to the inputs we recieved\n",
    "        dloss_dweights = np.matmul(self.last_xs.T, upstream_resp_loss).like(ALL)\n",
    "        # dloss_dweights = self.last_xs.T @ upstream_resp_loss\n",
    "\n",
    "        assert self.grads.shape == dloss_dweights.shape\n",
    "        self.grads = dloss_dweights\n",
    "\n",
    "        return dloss_din\n",
    "\n",
    "    def forward(self, xs: np.ndarray, no_record: bool = False) -> np.ndarray:\n",
    "        # fix xs, if we need bias\n",
    "        fixed_xs = xs\n",
    "        # print(f\"{fixed_xs.shape=}\")\n",
    "        if self.use_bias:\n",
    "            fixed_xs = padones(fixed_xs)\n",
    "            # fixed_xs = np.hstack((fixed_xs, Fxp(np.ones((fixed_xs.shape[0], 1)))))\n",
    "        \n",
    "        if not no_record:\n",
    "            self.last_xs = fixed_xs\n",
    "        \n",
    "        # return self.last_xs @ self.matr\n",
    "        # print(f\"{self.matr=}\")\n",
    "        return np.matmul(fixed_xs, self.matr).like(ALL)"
   ]
  },
  {
   "cell_type": "code",
   "execution_count": 58,
   "metadata": {},
   "outputs": [],
   "source": [
    "class LinearPercepFused(Linear):\n",
    "    def forward(self, xs: np.ndarray, no_record: bool = False) -> np.ndarray:\n",
    "        outp = super().forward(xs, no_record)\n",
    "        return np.where(outp > 0., Fxp(0), Fxp(1)).like(ALL)"
   ]
  },
  {
   "cell_type": "code",
   "execution_count": 59,
   "metadata": {},
   "outputs": [],
   "source": [
    "class MSELoss:\n",
    "    def __init__(self) -> None:\n",
    "        self.last_diffs = None\n",
    "\n",
    "    def get_grad(self) -> np.ndarray:\n",
    "        return self.last_diffs/len(self.last_diffs) << 1\n",
    "\n",
    "    def forward(self, y: np.ndarray, y_exp) -> np.ndarray:\n",
    "        self.last_diffs = y - y_exp\n",
    "        return np.mean((self.last_diffs**2))"
   ]
  },
  {
   "cell_type": "code",
   "execution_count": 60,
   "metadata": {},
   "outputs": [],
   "source": [
    "# matr = np.random.normal(0, 1., (1 + (1 if True else 0), 10))"
   ]
  },
  {
   "cell_type": "code",
   "execution_count": 61,
   "metadata": {},
   "outputs": [],
   "source": [
    "# matr.shape"
   ]
  },
  {
   "cell_type": "code",
   "execution_count": 62,
   "metadata": {},
   "outputs": [],
   "source": [
    "# matr[:-1, :].shape"
   ]
  },
  {
   "cell_type": "code",
   "execution_count": 63,
   "metadata": {},
   "outputs": [],
   "source": [
    "# (2.*np.ones((10, 1))) @ matr[:-1, :]"
   ]
  },
  {
   "cell_type": "code",
   "execution_count": 64,
   "metadata": {},
   "outputs": [],
   "source": [
    "# (2.*np.ones((10, 1))) @ matr[:-1, :] + matr[-1, :]"
   ]
  },
  {
   "cell_type": "code",
   "execution_count": 65,
   "metadata": {},
   "outputs": [],
   "source": [
    "# tx = 2.*np.ones((10, 1))\n",
    "# np.hstack((tx, np.ones((tx.shape[0], 1)))) @ matr"
   ]
  },
  {
   "cell_type": "code",
   "execution_count": 66,
   "metadata": {},
   "outputs": [],
   "source": [
    "# fixed_xs = Fxp(np.random.normal(0, 1., size=5).reshape(-1, 1)).like(ALL)\n",
    "# print(f\"{fixed_xs=}\")\n",
    "# np.where(fixed_xs > 0., Fxp(0), Fxp(1)).like(ALL)"
   ]
  },
  {
   "cell_type": "code",
   "execution_count": 67,
   "metadata": {},
   "outputs": [],
   "source": [
    "# from fxpmath import Fxp\n",
    "# import numpy as np\n",
    "\n",
    "# ALL = Fxp(None, signed=True, n_word=16, n_frac=8)\n",
    "# fixed_xs = Fxp(np.ones((4, 1))).like(ALL)\n",
    "# np.hstack((fixed_xs, Fxp(np.ones((fixed_xs.shape[0], 1))).like(ALL)))"
   ]
  },
  {
   "cell_type": "code",
   "execution_count": 68,
   "metadata": {},
   "outputs": [],
   "source": [
    "# l = Linear(1, 1)"
   ]
  },
  {
   "cell_type": "code",
   "execution_count": 69,
   "metadata": {},
   "outputs": [],
   "source": [
    "xs = np.array([[0., 0.], [0., 1.], [1., 0.], [1., 1.]])\n",
    "ys = np.array([[0.], [0.], [1.], [0.]])\n",
    "\n",
    "xs_repeat = xs.repeat(10, 0)\n",
    "ys_repeat = ys.repeat(10, 0)\n",
    "ys_repeat += np.random.normal(0, .01, size=ys_repeat.shape)\n",
    "\n",
    "fxp_xs = Fxp(xs_repeat).like(ALL)\n",
    "fxp_ys = Fxp(ys_repeat).like(ALL)"
   ]
  },
  {
   "cell_type": "code",
   "execution_count": 70,
   "metadata": {},
   "outputs": [],
   "source": [
    "# Linear(1, 1).matr.config.op_input_size"
   ]
  },
  {
   "cell_type": "code",
   "execution_count": 71,
   "metadata": {},
   "outputs": [],
   "source": [
    "# weird matmul behavior!!\n",
    "# wm = Fxp(np.random.normal(0, 1., size=(1, 1))).like(ALL)\n",
    "# print(f\"{np.matmul(Fxp(np.ones((10, 1))).like(ALL), wm)=}\")\n",
    "# print(f\"{np.dot(Fxp(np.ones((10, 1))).like(ALL), wm)=}\")"
   ]
  },
  {
   "cell_type": "code",
   "execution_count": 72,
   "metadata": {},
   "outputs": [],
   "source": [
    "def get_random_range(lenx, seq_len):\n",
    "    start_i = np.random.randint(0, lenx-seq_len)\n",
    "    return start_i, start_i + seq_len"
   ]
  },
  {
   "cell_type": "code",
   "execution_count": 73,
   "metadata": {},
   "outputs": [],
   "source": [
    "from tqdm import tqdm"
   ]
  },
  {
   "cell_type": "code",
   "execution_count": 74,
   "metadata": {},
   "outputs": [
    {
     "name": "stderr",
     "output_type": "stream",
     "text": [
      " 19%|█▉        | 564/3000 [00:35<02:34, 15.79it/s]\n"
     ]
    },
    {
     "ename": "KeyboardInterrupt",
     "evalue": "",
     "output_type": "error",
     "traceback": [
      "\u001b[1;31m---------------------------------------------------------------------------\u001b[0m",
      "\u001b[1;31mKeyboardInterrupt\u001b[0m                         Traceback (most recent call last)",
      "\u001b[1;32m~\\AppData\\Local\\Temp/ipykernel_31768/2610501303.py\u001b[0m in \u001b[0;36m<module>\u001b[1;34m\u001b[0m\n\u001b[0;32m     15\u001b[0m     \u001b[0mpass_back_grad\u001b[0m \u001b[1;33m=\u001b[0m \u001b[0mlossf\u001b[0m\u001b[1;33m.\u001b[0m\u001b[0mget_grad\u001b[0m\u001b[1;33m(\u001b[0m\u001b[1;33m)\u001b[0m\u001b[1;33m\u001b[0m\u001b[1;33m\u001b[0m\u001b[0m\n\u001b[0;32m     16\u001b[0m     \u001b[0mpass_back_grad\u001b[0m \u001b[1;33m=\u001b[0m \u001b[0mlin2\u001b[0m\u001b[1;33m.\u001b[0m\u001b[0mget_grad\u001b[0m\u001b[1;33m(\u001b[0m\u001b[0mpass_back_grad\u001b[0m\u001b[1;33m)\u001b[0m\u001b[1;33m\u001b[0m\u001b[1;33m\u001b[0m\u001b[0m\n\u001b[1;32m---> 17\u001b[1;33m     \u001b[0mpass_back_grad\u001b[0m \u001b[1;33m=\u001b[0m \u001b[0mlin1\u001b[0m\u001b[1;33m.\u001b[0m\u001b[0mget_grad\u001b[0m\u001b[1;33m(\u001b[0m\u001b[0mpass_back_grad\u001b[0m\u001b[1;33m)\u001b[0m\u001b[1;33m\u001b[0m\u001b[1;33m\u001b[0m\u001b[0m\n\u001b[0m\u001b[0;32m     18\u001b[0m \u001b[1;33m\u001b[0m\u001b[0m\n\u001b[0;32m     19\u001b[0m     \u001b[1;31m# lin1.matr += lin1.grads >> LR_FAC\u001b[0m\u001b[1;33m\u001b[0m\u001b[1;33m\u001b[0m\u001b[1;33m\u001b[0m\u001b[0m\n",
      "\u001b[1;32m~\\AppData\\Local\\Temp/ipykernel_31768/3228105876.py\u001b[0m in \u001b[0;36mget_grad\u001b[1;34m(self, upstream_resp_loss)\u001b[0m\n\u001b[0;32m     22\u001b[0m \u001b[1;33m\u001b[0m\u001b[0m\n\u001b[0;32m     23\u001b[0m         \u001b[1;31m# the loss 'attributed' to the weights is directly proportional to the inputs we recieved\u001b[0m\u001b[1;33m\u001b[0m\u001b[1;33m\u001b[0m\u001b[1;33m\u001b[0m\u001b[0m\n\u001b[1;32m---> 24\u001b[1;33m         \u001b[0mdloss_dweights\u001b[0m \u001b[1;33m=\u001b[0m \u001b[0mnp\u001b[0m\u001b[1;33m.\u001b[0m\u001b[0mmatmul\u001b[0m\u001b[1;33m(\u001b[0m\u001b[0mself\u001b[0m\u001b[1;33m.\u001b[0m\u001b[0mlast_xs\u001b[0m\u001b[1;33m.\u001b[0m\u001b[0mT\u001b[0m\u001b[1;33m,\u001b[0m \u001b[0mupstream_resp_loss\u001b[0m\u001b[1;33m)\u001b[0m\u001b[1;33m.\u001b[0m\u001b[0mlike\u001b[0m\u001b[1;33m(\u001b[0m\u001b[0mALL\u001b[0m\u001b[1;33m)\u001b[0m\u001b[1;33m\u001b[0m\u001b[1;33m\u001b[0m\u001b[0m\n\u001b[0m\u001b[0;32m     25\u001b[0m         \u001b[1;31m# dloss_dweights = self.last_xs.T @ upstream_resp_loss\u001b[0m\u001b[1;33m\u001b[0m\u001b[1;33m\u001b[0m\u001b[1;33m\u001b[0m\u001b[0m\n\u001b[0;32m     26\u001b[0m \u001b[1;33m\u001b[0m\u001b[0m\n",
      "\u001b[1;32mc:\\Users\\maxim\\AppData\\Local\\Programs\\Python\\Python38\\lib\\site-packages\\fxpmath\\objects.py\u001b[0m in \u001b[0;36mlike\u001b[1;34m(self, x)\u001b[0m\n\u001b[0;32m   1576\u001b[0m         \u001b[1;32mif\u001b[0m \u001b[0misinstance\u001b[0m\u001b[1;33m(\u001b[0m\u001b[0mx\u001b[0m\u001b[1;33m,\u001b[0m \u001b[0mself\u001b[0m\u001b[1;33m.\u001b[0m\u001b[0m__class__\u001b[0m\u001b[1;33m)\u001b[0m\u001b[1;33m:\u001b[0m\u001b[1;33m\u001b[0m\u001b[1;33m\u001b[0m\u001b[0m\n\u001b[0;32m   1577\u001b[0m             \u001b[0mnew_raw_val\u001b[0m \u001b[1;33m=\u001b[0m \u001b[0mself\u001b[0m\u001b[1;33m.\u001b[0m\u001b[0mval\u001b[0m \u001b[1;33m*\u001b[0m \u001b[1;36m2\u001b[0m\u001b[1;33m**\u001b[0m\u001b[1;33m(\u001b[0m\u001b[0mx\u001b[0m\u001b[1;33m.\u001b[0m\u001b[0mn_frac\u001b[0m \u001b[1;33m-\u001b[0m \u001b[0mself\u001b[0m\u001b[1;33m.\u001b[0m\u001b[0mn_frac\u001b[0m\u001b[1;33m)\u001b[0m\u001b[1;33m\u001b[0m\u001b[1;33m\u001b[0m\u001b[0m\n\u001b[1;32m-> 1578\u001b[1;33m             \u001b[1;32mreturn\u001b[0m  \u001b[0mx\u001b[0m\u001b[1;33m.\u001b[0m\u001b[0mcopy\u001b[0m\u001b[1;33m(\u001b[0m\u001b[1;33m)\u001b[0m\u001b[1;33m.\u001b[0m\u001b[0mset_val\u001b[0m\u001b[1;33m(\u001b[0m\u001b[0mnew_raw_val\u001b[0m\u001b[1;33m,\u001b[0m \u001b[0mraw\u001b[0m\u001b[1;33m=\u001b[0m\u001b[1;32mTrue\u001b[0m\u001b[1;33m)\u001b[0m\u001b[1;33m\u001b[0m\u001b[1;33m\u001b[0m\u001b[0m\n\u001b[0m\u001b[0;32m   1579\u001b[0m         \u001b[1;32melse\u001b[0m\u001b[1;33m:\u001b[0m\u001b[1;33m\u001b[0m\u001b[1;33m\u001b[0m\u001b[0m\n\u001b[0;32m   1580\u001b[0m             \u001b[1;32mraise\u001b[0m \u001b[0mValueError\u001b[0m\u001b[1;33m(\u001b[0m\u001b[1;34m'`x` should be a Fxp object!'\u001b[0m\u001b[1;33m)\u001b[0m\u001b[1;33m\u001b[0m\u001b[1;33m\u001b[0m\u001b[0m\n",
      "\u001b[1;32mc:\\Users\\maxim\\AppData\\Local\\Programs\\Python\\Python38\\lib\\site-packages\\fxpmath\\objects.py\u001b[0m in \u001b[0;36mset_val\u001b[1;34m(self, val, raw, vdtype, index)\u001b[0m\n\u001b[0;32m    812\u001b[0m \u001b[1;33m\u001b[0m\u001b[0m\n\u001b[0;32m    813\u001b[0m             \u001b[1;31m# rounding and overflowing\u001b[0m\u001b[1;33m\u001b[0m\u001b[1;33m\u001b[0m\u001b[1;33m\u001b[0m\u001b[0m\n\u001b[1;32m--> 814\u001b[1;33m             \u001b[0mnew_val\u001b[0m \u001b[1;33m=\u001b[0m \u001b[0mself\u001b[0m\u001b[1;33m.\u001b[0m\u001b[0m_round\u001b[0m\u001b[1;33m(\u001b[0m\u001b[0mval\u001b[0m \u001b[1;33m*\u001b[0m \u001b[0mconv_factor\u001b[0m \u001b[1;33m,\u001b[0m \u001b[0mmethod\u001b[0m\u001b[1;33m=\u001b[0m\u001b[0mself\u001b[0m\u001b[1;33m.\u001b[0m\u001b[0mconfig\u001b[0m\u001b[1;33m.\u001b[0m\u001b[0mrounding\u001b[0m\u001b[1;33m)\u001b[0m\u001b[1;33m\u001b[0m\u001b[1;33m\u001b[0m\u001b[0m\n\u001b[0m\u001b[0;32m    815\u001b[0m             \u001b[0mnew_val\u001b[0m \u001b[1;33m=\u001b[0m \u001b[0mself\u001b[0m\u001b[1;33m.\u001b[0m\u001b[0m_overflow_action\u001b[0m\u001b[1;33m(\u001b[0m\u001b[0mnew_val\u001b[0m\u001b[1;33m,\u001b[0m \u001b[0mval_min\u001b[0m\u001b[1;33m,\u001b[0m \u001b[0mval_max\u001b[0m\u001b[1;33m)\u001b[0m\u001b[1;33m\u001b[0m\u001b[1;33m\u001b[0m\u001b[0m\n\u001b[0;32m    816\u001b[0m \u001b[1;33m\u001b[0m\u001b[0m\n",
      "\u001b[1;32mc:\\Users\\maxim\\AppData\\Local\\Programs\\Python\\Python38\\lib\\site-packages\\fxpmath\\objects.py\u001b[0m in \u001b[0;36m_round\u001b[1;34m(self, val, method)\u001b[0m\n\u001b[0;32m   1063\u001b[0m \u001b[1;33m\u001b[0m\u001b[0m\n\u001b[0;32m   1064\u001b[0m     \u001b[1;32mdef\u001b[0m \u001b[0m_round\u001b[0m\u001b[1;33m(\u001b[0m\u001b[0mself\u001b[0m\u001b[1;33m,\u001b[0m \u001b[0mval\u001b[0m\u001b[1;33m,\u001b[0m \u001b[0mmethod\u001b[0m\u001b[1;33m=\u001b[0m\u001b[1;34m'floor'\u001b[0m\u001b[1;33m)\u001b[0m\u001b[1;33m:\u001b[0m\u001b[1;33m\u001b[0m\u001b[1;33m\u001b[0m\u001b[0m\n\u001b[1;32m-> 1065\u001b[1;33m         \u001b[1;32mif\u001b[0m \u001b[0misinstance\u001b[0m\u001b[1;33m(\u001b[0m\u001b[0mval\u001b[0m\u001b[1;33m,\u001b[0m \u001b[0mint\u001b[0m\u001b[1;33m)\u001b[0m \u001b[1;32mor\u001b[0m \u001b[0mnp\u001b[0m\u001b[1;33m.\u001b[0m\u001b[0missubdtype\u001b[0m\u001b[1;33m(\u001b[0m\u001b[0mnp\u001b[0m\u001b[1;33m.\u001b[0m\u001b[0marray\u001b[0m\u001b[1;33m(\u001b[0m\u001b[0mval\u001b[0m\u001b[1;33m)\u001b[0m\u001b[1;33m.\u001b[0m\u001b[0mdtype\u001b[0m\u001b[1;33m,\u001b[0m \u001b[0mnp\u001b[0m\u001b[1;33m.\u001b[0m\u001b[0minteger\u001b[0m\u001b[1;33m)\u001b[0m \u001b[1;32mor\u001b[0m \u001b[0mnp\u001b[0m\u001b[1;33m.\u001b[0m\u001b[0missubdtype\u001b[0m\u001b[1;33m(\u001b[0m\u001b[0mnp\u001b[0m\u001b[1;33m.\u001b[0m\u001b[0marray\u001b[0m\u001b[1;33m(\u001b[0m\u001b[0mval\u001b[0m\u001b[1;33m)\u001b[0m\u001b[1;33m.\u001b[0m\u001b[0mdtype\u001b[0m\u001b[1;33m,\u001b[0m \u001b[0mnp\u001b[0m\u001b[1;33m.\u001b[0m\u001b[0mobject_\u001b[0m\u001b[1;33m)\u001b[0m\u001b[1;33m:\u001b[0m\u001b[1;33m\u001b[0m\u001b[1;33m\u001b[0m\u001b[0m\n\u001b[0m\u001b[0;32m   1066\u001b[0m             \u001b[0mrval\u001b[0m \u001b[1;33m=\u001b[0m \u001b[0mval\u001b[0m\u001b[1;33m\u001b[0m\u001b[1;33m\u001b[0m\u001b[0m\n\u001b[0;32m   1067\u001b[0m         \u001b[1;32melif\u001b[0m \u001b[0mmethod\u001b[0m \u001b[1;33m==\u001b[0m \u001b[1;34m'around'\u001b[0m\u001b[1;33m:\u001b[0m\u001b[1;33m\u001b[0m\u001b[1;33m\u001b[0m\u001b[0m\n",
      "\u001b[1;31mKeyboardInterrupt\u001b[0m: "
     ]
    }
   ],
   "source": [
    "LR_FAC = 8\n",
    "lin1 = LinearPercepFused(2, 5, use_bias=True)\n",
    "lin2 = LinearPercepFused(5, 1, use_bias=True)\n",
    "lossf = MSELoss()\n",
    "\n",
    "losses = []\n",
    "for _ in tqdm(range(3000)):\n",
    "    starti, endi = get_random_range(len(fxp_xs), 1)\n",
    "    out_l1 = lin1.forward(fxp_xs[starti:endi])\n",
    "    out = lin2.forward(out_l1)\n",
    "\n",
    "    loss = lossf.forward(out, fxp_ys[starti:endi])\n",
    "    # print(f\"{loss=}\")\n",
    "    \n",
    "    pass_back_grad = lossf.get_grad()\n",
    "    pass_back_grad = lin2.get_grad(pass_back_grad)\n",
    "    pass_back_grad = lin1.get_grad(pass_back_grad)\n",
    "\n",
    "    # lin1.matr += lin1.grads >> LR_FAC\n",
    "    lin1.matr += lin1.grads *.01\n",
    "\n",
    "    # lin2.matr += lin2.grads >> LR_FAC\n",
    "    lin2.matr += lin2.grads *.01\n",
    "    losses.append(loss)"
   ]
  },
  {
   "cell_type": "code",
   "execution_count": 75,
   "metadata": {},
   "outputs": [
    {
     "data": {
      "text/plain": [
       "[<matplotlib.lines.Line2D at 0x153435d88b0>]"
      ]
     },
     "execution_count": 75,
     "metadata": {},
     "output_type": "execute_result"
    },
    {
     "data": {
      "image/png": "[encoded data removed]",
      "text/plain": [
       "<Figure size 432x288 with 1 Axes>"
      ]
     },
     "metadata": {
      "needs_background": "light"
     },
     "output_type": "display_data"
    }
   ],
   "source": [
    "import matplotlib.pyplot as plt\n",
    "plt.plot(losses)"
   ]
  },
  {
   "cell_type": "code",
   "execution_count": 76,
   "metadata": {},
   "outputs": [
    {
     "data": {
      "text/plain": [
       "<matplotlib.collections.PathCollection at 0x15331816eb0>"
      ]
     },
     "execution_count": 76,
     "metadata": {},
     "output_type": "execute_result"
    },
    {
     "data": {
      "image/png": "[encoded data removed]",
      "text/plain": [
       "<Figure size 432x288 with 1 Axes>"
      ]
     },
     "metadata": {
      "needs_background": "light"
     },
     "output_type": "display_data"
    }
   ],
   "source": [
    "sxs, sys = np.meshgrid(*[np.linspace(-2, 2, 101) for _ in range(2)])\n",
    "pts = np.vstack([sxs.ravel(), sys.ravel()]).T\n",
    "out_l1 = lin1.forward(pts, True)\n",
    "out = lin2.forward(out_l1, True)\n",
    "plt.scatter(pts[:, 0], pts[:, 1], c=out, cmap=\"hot\")"
   ]
  },
  {
   "cell_type": "code",
   "execution_count": 77,
   "metadata": {},
   "outputs": [
    {
     "data": {
      "text/plain": [
       "fxp-s16/8([[0.]\n",
       "           [0.]\n",
       "           [1.]\n",
       "           [0.]])"
      ]
     },
     "execution_count": 77,
     "metadata": {},
     "output_type": "execute_result"
    }
   ],
   "source": [
    "out_l1 = lin1.forward(Fxp(xs).like(ALL), True)\n",
    "out = lin2.forward(out_l1, True)\n",
    "out"
   ]
  },
  {
   "cell_type": "code",
   "execution_count": 78,
   "metadata": {},
   "outputs": [
    {
     "data": {
      "text/plain": [
       "array([[0.],\n",
       "       [0.],\n",
       "       [1.],\n",
       "       [0.]])"
      ]
     },
     "execution_count": 78,
     "metadata": {},
     "output_type": "execute_result"
    }
   ],
   "source": [
    "ys"
   ]
  },
  {
   "cell_type": "code",
   "execution_count": null,
   "metadata": {},
   "outputs": [],
   "source": []
  }
 ],
 "metadata": {
  "kernelspec": {
   "display_name": "Python 3.8.0 64-bit",
   "language": "python",
   "name": "python3"
  },
  "language_info": {
   "codemirror_mode": {
    "name": "ipython",
    "version": 3
   },
   "file_extension": ".py",
   "mimetype": "text/x-python",
   "name": "python",
   "nbconvert_exporter": "python",
   "pygments_lexer": "ipython3",
   "version": "3.8.5"
  },
  "orig_nbformat": 4,
  "vscode": {
   "interpreter": {
    "hash": "8c8158d981000c5a34bf32431467cf5cb93ec2272b8d464bd409096bcc51e96a"
   }
  }
 },
 "nbformat": 4,
 "nbformat_minor": 2
}
